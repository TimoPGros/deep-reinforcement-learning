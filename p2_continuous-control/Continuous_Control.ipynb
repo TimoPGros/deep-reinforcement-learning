{
 "cells": [
  {
   "cell_type": "markdown",
   "metadata": {},
   "source": [
    "# Continuous Control\n",
    "\n",
    "---\n",
    "\n",
    "In this notebook, you will learn how to use the Unity ML-Agents environment for the second project of the [Deep Reinforcement Learning Nanodegree](https://www.udacity.com/course/deep-reinforcement-learning-nanodegree--nd893) program.\n",
    "\n",
    "### 1. Start the Environment\n",
    "\n",
    "We begin by importing the necessary packages.  If the code cell below returns an error, please revisit the project instructions to double-check that you have installed [Unity ML-Agents](https://github.com/Unity-Technologies/ml-agents/blob/master/docs/Installation.md) and [NumPy](http://www.numpy.org/)."
   ]
  },
  {
   "cell_type": "code",
   "execution_count": 1,
   "metadata": {},
   "outputs": [],
   "source": [
    "from unityagents import UnityEnvironment\n",
    "import numpy as np\n",
    "from torch import nn\n",
    "import torch\n",
    "from torch import optim\n",
    "import torch.nn.functional as F\n",
    "import random\n",
    "from collections import namedtuple, deque\n",
    "import matplotlib.pyplot as plt"
   ]
  },
  {
   "cell_type": "markdown",
   "metadata": {},
   "source": [
    "Next, we will start the environment!  **_Before running the code cell below_**, change the `file_name` parameter to match the location of the Unity environment that you downloaded.\n",
    "\n",
    "- **Mac**: `\"path/to/Reacher.app\"`\n",
    "- **Windows** (x86): `\"path/to/Reacher_Windows_x86/Reacher.exe\"`\n",
    "- **Windows** (x86_64): `\"path/to/Reacher_Windows_x86_64/Reacher.exe\"`\n",
    "- **Linux** (x86): `\"path/to/Reacher_Linux/Reacher.x86\"`\n",
    "- **Linux** (x86_64): `\"path/to/Reacher_Linux/Reacher.x86_64\"`\n",
    "- **Linux** (x86, headless): `\"path/to/Reacher_Linux_NoVis/Reacher.x86\"`\n",
    "- **Linux** (x86_64, headless): `\"path/to/Reacher_Linux_NoVis/Reacher.x86_64\"`\n",
    "\n",
    "For instance, if you are using a Mac, then you downloaded `Reacher.app`.  If this file is in the same folder as the notebook, then the line below should appear as follows:\n",
    "```\n",
    "env = UnityEnvironment(file_name=\"Reacher.app\")\n",
    "```"
   ]
  },
  {
   "cell_type": "code",
   "execution_count": 2,
   "metadata": {},
   "outputs": [
    {
     "name": "stderr",
     "output_type": "stream",
     "text": [
      "INFO:unityagents:\n",
      "'Academy' started successfully!\n",
      "Unity Academy name: Academy\n",
      "        Number of Brains: 1\n",
      "        Number of External Brains : 1\n",
      "        Lesson number : 0\n",
      "        Reset Parameters :\n",
      "\t\tgoal_speed -> 1.0\n",
      "\t\tgoal_size -> 5.0\n",
      "Unity brain name: ReacherBrain\n",
      "        Number of Visual Observations (per agent): 0\n",
      "        Vector Observation space type: continuous\n",
      "        Vector Observation space size (per agent): 33\n",
      "        Number of stacked Vector Observation: 1\n",
      "        Vector Action space type: continuous\n",
      "        Vector Action space size (per agent): 4\n",
      "        Vector Action descriptions: , , , \n"
     ]
    }
   ],
   "source": [
    "env = UnityEnvironment(file_name='Reacher.app')"
   ]
  },
  {
   "cell_type": "markdown",
   "metadata": {},
   "source": [
    "Environments contain **_brains_** which are responsible for deciding the actions of their associated agents. Here we check for the first brain available, and set it as the default brain we will be controlling from Python."
   ]
  },
  {
   "cell_type": "code",
   "execution_count": 3,
   "metadata": {},
   "outputs": [],
   "source": [
    "# get the default brain\n",
    "brain_name = env.brain_names[0]\n",
    "brain = env.brains[brain_name]"
   ]
  },
  {
   "cell_type": "markdown",
   "metadata": {},
   "source": [
    "### 2. Examine the State and Action Spaces\n",
    "\n",
    "In this environment, a double-jointed arm can move to target locations. A reward of `+0.1` is provided for each step that the agent's hand is in the goal location. Thus, the goal of your agent is to maintain its position at the target location for as many time steps as possible.\n",
    "\n",
    "The observation space consists of `33` variables corresponding to position, rotation, velocity, and angular velocities of the arm.  Each action is a vector with four numbers, corresponding to torque applicable to two joints.  Every entry in the action vector must be a number between `-1` and `1`.\n",
    "\n",
    "Run the code cell below to print some information about the environment."
   ]
  },
  {
   "cell_type": "code",
   "execution_count": 4,
   "metadata": {},
   "outputs": [
    {
     "name": "stdout",
     "output_type": "stream",
     "text": [
      "Number of agents: 1\n",
      "Size of each action: 4\n",
      "There are 1 agents. Each observes a state with length: 33\n",
      "The state for the first agent looks like: [ 0.00000000e+00 -4.00000000e+00  0.00000000e+00  1.00000000e+00\n",
      " -0.00000000e+00 -0.00000000e+00 -4.37113883e-08  0.00000000e+00\n",
      "  0.00000000e+00  0.00000000e+00  0.00000000e+00  0.00000000e+00\n",
      "  0.00000000e+00  0.00000000e+00 -1.00000000e+01  0.00000000e+00\n",
      "  1.00000000e+00 -0.00000000e+00 -0.00000000e+00 -4.37113883e-08\n",
      "  0.00000000e+00  0.00000000e+00  0.00000000e+00  0.00000000e+00\n",
      "  0.00000000e+00  0.00000000e+00  5.75471878e+00 -1.00000000e+00\n",
      "  5.55726671e+00  0.00000000e+00  1.00000000e+00  0.00000000e+00\n",
      " -1.68164849e-01]\n"
     ]
    }
   ],
   "source": [
    "# reset the environment\n",
    "env_info = env.reset(train_mode=True)[brain_name]\n",
    "\n",
    "# number of agents\n",
    "num_agents = len(env_info.agents)\n",
    "print('Number of agents:', num_agents)\n",
    "\n",
    "# size of each action\n",
    "action_size = brain.vector_action_space_size\n",
    "print('Size of each action:', action_size)\n",
    "\n",
    "# examine the state space \n",
    "states = env_info.vector_observations\n",
    "state_size = states.shape[1]\n",
    "print('There are {} agents. Each observes a state with length: {}'.format(states.shape[0], state_size))\n",
    "print('The state for the first agent looks like:', states[0])"
   ]
  },
  {
   "cell_type": "markdown",
   "metadata": {},
   "source": [
    "### 3. Take Random Actions in the Environment\n",
    "\n",
    "In the next code cell, you will learn how to use the Python API to control the agent and receive feedback from the environment.\n",
    "\n",
    "Once this cell is executed, you will watch the agent's performance, if it selects an action at random with each time step.  A window should pop up that allows you to observe the agent, as it moves through the environment.  \n",
    "\n",
    "Of course, as part of the project, you'll have to change the code so that the agent is able to use its experience to gradually choose better actions when interacting with the environment!"
   ]
  },
  {
   "cell_type": "code",
   "execution_count": 20,
   "metadata": {},
   "outputs": [
    {
     "name": "stdout",
     "output_type": "stream",
     "text": [
      "[[-0.79311423  0.18034921  0.08449941 -0.1736024 ]]\n",
      "[[-0.79311423  0.18034921  0.08449941 -0.1736024 ]]\n"
     ]
    },
    {
     "ename": "NameError",
     "evalue": "name 'a' is not defined",
     "output_type": "error",
     "traceback": [
      "\u001b[0;31m---------------------------------------------------------------------------\u001b[0m",
      "\u001b[0;31mNameError\u001b[0m                                 Traceback (most recent call last)",
      "\u001b[0;32m<ipython-input-20-ddaa0d76c43d>\u001b[0m in \u001b[0;36m<module>\u001b[0;34m\u001b[0m\n\u001b[1;32m      7\u001b[0m     \u001b[0mactions\u001b[0m \u001b[0;34m=\u001b[0m \u001b[0mnp\u001b[0m\u001b[0;34m.\u001b[0m\u001b[0mclip\u001b[0m\u001b[0;34m(\u001b[0m\u001b[0mactions\u001b[0m\u001b[0;34m,\u001b[0m \u001b[0;34m-\u001b[0m\u001b[0;36m1\u001b[0m\u001b[0;34m,\u001b[0m \u001b[0;36m1\u001b[0m\u001b[0;34m)\u001b[0m \u001b[0;31m# all actions between -1 and 1\u001b[0m\u001b[0;34m\u001b[0m\u001b[0;34m\u001b[0m\u001b[0m\n\u001b[1;32m      8\u001b[0m     \u001b[0mprint\u001b[0m\u001b[0;34m(\u001b[0m\u001b[0mactions\u001b[0m\u001b[0;34m)\u001b[0m\u001b[0;34m\u001b[0m\u001b[0;34m\u001b[0m\u001b[0m\n\u001b[0;32m----> 9\u001b[0;31m     \u001b[0ma\u001b[0m\u001b[0;34m\u001b[0m\u001b[0;34m\u001b[0m\u001b[0m\n\u001b[0m\u001b[1;32m     10\u001b[0m     \u001b[0menv_info\u001b[0m \u001b[0;34m=\u001b[0m \u001b[0menv\u001b[0m\u001b[0;34m.\u001b[0m\u001b[0mstep\u001b[0m\u001b[0;34m(\u001b[0m\u001b[0mactions\u001b[0m\u001b[0;34m)\u001b[0m\u001b[0;34m[\u001b[0m\u001b[0mbrain_name\u001b[0m\u001b[0;34m]\u001b[0m           \u001b[0;31m# send all actions to tne environment\u001b[0m\u001b[0;34m\u001b[0m\u001b[0;34m\u001b[0m\u001b[0m\n\u001b[1;32m     11\u001b[0m     \u001b[0mnext_states\u001b[0m \u001b[0;34m=\u001b[0m \u001b[0menv_info\u001b[0m\u001b[0;34m.\u001b[0m\u001b[0mvector_observations\u001b[0m         \u001b[0;31m# get next state (for each agent)\u001b[0m\u001b[0;34m\u001b[0m\u001b[0;34m\u001b[0m\u001b[0m\n",
      "\u001b[0;31mNameError\u001b[0m: name 'a' is not defined"
     ]
    }
   ],
   "source": [
    "env_info = env.reset(train_mode=False)[brain_name]     # reset the environment    \n",
    "states = env_info.vector_observations                  # get the current state (for each agent)\n",
    "scores = np.zeros(num_agents)                          # initialize the score (for each agent)\n",
    "while True:\n",
    "    actions = np.random.randn(num_agents, action_size) # select an action (for each agent)\n",
    "    actions = np.clip(actions, -1, 1) # all actions between -1 and 1\n",
    "    env_info = env.step(actions)[brain_name]           # send all actions to tne environment\n",
    "    next_states = env_info.vector_observations         # get next state (for each agent)\n",
    "    rewards = env_info.rewards                         # get reward (for each agent)\n",
    "    dones = env_info.local_done                        # see if episode finished\n",
    "    scores += env_info.rewards                         # update the score (for each agent)\n",
    "    states = next_states                               # roll over states to next time step\n",
    "    if np.any(dones):                                  # exit loop if episode finished\n",
    "        break\n",
    "print('Total score (averaged over agents) this episode: {}'.format(np.mean(scores)))"
   ]
  },
  {
   "cell_type": "code",
   "execution_count": 8,
   "metadata": {},
   "outputs": [],
   "source": [
    "env_info = env.reset(train_mode=False)[brain_name]  \n",
    "states = env_info.vector_observations                  # get the current state (for each agent)\n",
    "scores = np.zeros(num_agents) \n",
    "actions = [1,1,1,1]\n",
    "env_info = env.step(actions)[brain_name]\n"
   ]
  },
  {
   "cell_type": "code",
   "execution_count": 9,
   "metadata": {},
   "outputs": [
    {
     "data": {
      "text/plain": [
       "<unityagents.brain.BrainInfo at 0x7fa7e0d2a0b8>"
      ]
     },
     "execution_count": 9,
     "metadata": {},
     "output_type": "execute_result"
    }
   ],
   "source": [
    "env.step([actions])[brain_name]"
   ]
  },
  {
   "cell_type": "code",
   "execution_count": null,
   "metadata": {},
   "outputs": [],
   "source": []
  },
  {
   "cell_type": "code",
   "execution_count": null,
   "metadata": {},
   "outputs": [],
   "source": [
    "env.close()"
   ]
  },
  {
   "cell_type": "markdown",
   "metadata": {},
   "source": [
    "### 4. It's Your Turn!\n",
    "\n",
    "Now it's your turn to train your own agent to solve the environment!  When training the environment, set `train_mode=True`, so that the line for resetting the environment looks like the following:\n",
    "```python\n",
    "env_info = env.reset(train_mode=True)[brain_name]\n",
    "```"
   ]
  },
  {
   "cell_type": "code",
   "execution_count": 5,
   "metadata": {},
   "outputs": [],
   "source": [
    "env_info = env.reset(train_mode=True)[brain_name]\n",
    "\n",
    "BUFFER_SIZE = int(1e5)  # replay buffer size\n",
    "BATCH_SIZE = 128        # minibatch size\n",
    "GAMMA = 0.99          # discount factor\n",
    "TAU = 0.01#1e-3              # for soft update of target parameters\n",
    "ACTOR_LR = 5e-4               # learning rate \n",
    "CRITICS_LR = 5e-3               # learning rate \n",
    "UPDATE_EVERY = 10       # how often to update the network\n",
    "\n",
    "\n",
    "\n",
    "class Critics_network(nn.Module):\n",
    "    def __init__(self):\n",
    "        super().__init__()\n",
    "        # Defining the layers, 64, 64, 4 units each\n",
    "        self.fc1 = nn.Linear(33, 128)\n",
    "        self.fc2 = nn.Linear(128 + 4, 64)\n",
    "        # Output layer, 4 units - one for each action\n",
    "        self.fc3 = nn.Linear(64, 4)\n",
    "    def forward(self, x, action):\n",
    "        ''' Forward pass through the network, returns the output logits '''\n",
    "        \n",
    "        x = self.fc1(x)\n",
    "        x = F.relu(x)\n",
    "        x = torch.cat([x, action],1)\n",
    "        x = self.fc2(x)\n",
    "        x = F.relu(x)\n",
    "        x = self.fc3(x)\n",
    "        return x\n",
    "\n",
    "class Actor_network(nn.Module):\n",
    "    def __init__(self):\n",
    "        super().__init__()\n",
    "        # Defining the layers, 64, 64, 4 units each\n",
    "        self.fc1 = nn.Linear(33, 128)\n",
    "        self.fc2 = nn.Linear(128, 64)\n",
    "        # Output layer, 4 units - one for each action\n",
    "        self.fc3 = nn.Linear(64, 4)\n",
    "    def forward(self, x):\n",
    "        ''' Forward pass through the network, returns the output logits '''\n",
    "        \n",
    "        x = self.fc1(x)\n",
    "        x = F.relu(x)\n",
    "        x = self.fc2(x)\n",
    "        x = F.relu(x)\n",
    "        x = self.fc3(x)\n",
    "        return F.tanh(x)\n",
    "        \n",
    "    \n",
    "class Agent():\n",
    "    def __init__(self, seed):\n",
    "        self.critics_local = Critics_network()\n",
    "        self.critics_target = Critics_network()\n",
    "        self.actor_local = Actor_network()\n",
    "        self.actor_target = Actor_network()\n",
    "        self.seed = random.seed(seed)\n",
    "        \n",
    "        self.actor_optimizer = optim.Adam(self.actor_local.parameters(), lr=ACTOR_LR)\n",
    "        self.critics_optimizer = optim.Adam(self.critics_local.parameters(), lr=CRITICS_LR)\n",
    "        self.memory = ReplayBuffer(BUFFER_SIZE, BATCH_SIZE, seed)\n",
    "        \n",
    "        self.t_step = 0\n",
    "        \n",
    "    def step(self, state, action, reward, next_state, done):\n",
    "        self.memory.add(state, action, reward, next_state, done)\n",
    "        \n",
    "        self.t_step = (self.t_step + 1) % UPDATE_EVERY\n",
    "        if self.t_step == 0:\n",
    "            if (len(self.memory)) > BATCH_SIZE:\n",
    "                samples = self.memory.sample()\n",
    "                self.learn(samples, GAMMA)\n",
    "    \n",
    "    def act(self, state, eps = 0):\n",
    "        state = torch.from_numpy(state).float()\n",
    "        with torch.no_grad():\n",
    "            action_values = self.actor_local(state)\n",
    "        \n",
    "        noise = torch.rand(4) * 0.2 - 0.1\n",
    "        action_values += noise\n",
    "        return np.clip(action_values, -1, 1)    \n",
    "            \n",
    "    def learn(self, samples, gamma):\n",
    "        \"*** YOUR CODE HERE ***\"\n",
    "\n",
    "        states, actions, rewards, next_states, dones = samples\n",
    "#         print(states.size(), actions.size(), rewards.size(), next_states.size(), dones.size())\n",
    "        #dimensional fit of rewards and dones\n",
    "        rewards = rewards.unsqueeze(1)\n",
    "        dones = dones.unsqueeze(1)\n",
    "\n",
    "        # Compute Targets\n",
    "        q_values_next_states = self.critics_local.forward(next_states, self.actor_local(next_states))\n",
    "#         print(\"q_values_next_states\", q_values_next_states.size())\n",
    "        targets = rewards + (gamma * (q_values_next_states) *  (1 - dones))\n",
    "        predictions = self.critics_local.forward(states, actions)\n",
    "        \n",
    "#         print(states.size(), actions.size(), rewards.size(), next_states.size(), dones.size())\n",
    "#         print(q_values_next_states.size(), targets.size(), predictions.size())\n",
    "        \n",
    "        # loss & step of critic\n",
    "        loss = F.mse_loss(predictions, targets)\n",
    "        self.critics_optimizer.zero_grad()\n",
    "        loss.backward()\n",
    "        self.critics_optimizer.step()\n",
    "        \n",
    "        # \n",
    "        actor_losses = self.critics_local.forward(states, self.actor_local(states))\n",
    "        actor_loss = - actor_losses.mean()\n",
    "        self.actor_optimizer.zero_grad()\n",
    "        actor_loss.backward()\n",
    "        self.actor_optimizer.step()\n",
    "        # ------------------- update target network ------------------- #\n",
    "        self.soft_update(self.critics_local, self.critics_target, TAU)  \n",
    "        self.soft_update(self.actor_local, self.actor_target, TAU)  \n",
    "\n",
    "        \n",
    " \n",
    "    def soft_update(self, local_model, target_model, tau):\n",
    "        \"\"\"Soft update model parameters.\n",
    "        θ_target = τ*θ_local + (1 - τ)*θ_target\n",
    "\n",
    "        Params\n",
    "        ======\n",
    "            local_model (PyTorch model): weights will be copied from\n",
    "            target_model (PyTorch model): weights will be copied to\n",
    "            tau (float): interpolation parameter \n",
    "        \"\"\"\n",
    "        for target_param, local_param in zip(target_model.parameters(), local_model.parameters()):\n",
    "            target_param.data.copy_(tau*local_param.data + (1.0-tau)*target_param.data)\n",
    "\n",
    "\n",
    "class ReplayBuffer:\n",
    "    \n",
    "    def __init__(self, buffer_size, batch_size, seed):\n",
    "        self.batch_size = batch_size\n",
    "        self.memory = deque(maxlen = buffer_size)\n",
    "        self.seed = random.seed(seed)\n",
    "    \n",
    "    def add(self, state, action, reward, next_state, done):\n",
    "        if done:\n",
    "            done_value = 1\n",
    "        else:\n",
    "            done_value = 0\n",
    "        self.memory.append([state, action, reward, next_state, done_value])\n",
    "    \n",
    "    def sample(self):\n",
    "        samples = (random.sample(self.memory, self.batch_size))\n",
    "        \n",
    "        states = []\n",
    "        actions = []\n",
    "        rewards = []\n",
    "        next_states = []\n",
    "        dones = []\n",
    "        \n",
    "        for sample in samples:\n",
    "            state, action, reward, next_state, done = sample\n",
    "            \n",
    "            states.append(torch.tensor(state).float())\n",
    "            actions.append(torch.tensor(action).float())\n",
    "            rewards.append(reward)\n",
    "            next_states.append(next_state)\n",
    "            dones.append(done)\n",
    "        \n",
    "            \n",
    "        states = torch.cat(states).float().view(len(samples), -1)\n",
    "        actions = torch.cat(actions).float().view(len(samples), -1)\n",
    "        rewards = torch.tensor(rewards).float()\n",
    "        next_states = torch.tensor(next_states).float()\n",
    "        dones = torch.tensor(dones).float()\n",
    "        \n",
    "        return [states,actions,rewards,next_states,dones]\n",
    "        \n",
    "    \n",
    "    def __len__(self):\n",
    "        return len(self.memory)\n",
    "        \n",
    "        "
   ]
  },
  {
   "cell_type": "code",
   "execution_count": 6,
   "metadata": {},
   "outputs": [
    {
     "name": "stdout",
     "output_type": "stream",
     "text": [
      "Episode 10\tAverage Score: 0.75\n",
      "Episode 20\tAverage Score: 0.67\n",
      "Episode 30\tAverage Score: 0.76\n",
      "Episode 40\tAverage Score: 0.83\n",
      "Episode 50\tAverage Score: 0.87\n",
      "Episode 60\tAverage Score: 0.87\n",
      "Episode 70\tAverage Score: 0.80\n",
      "Episode 80\tAverage Score: 0.76\n",
      "Episode 90\tAverage Score: 0.74\n",
      "Episode 100\tAverage Score: 0.72\n",
      "Episode 110\tAverage Score: 0.70\n",
      "Episode 120\tAverage Score: 0.70\n",
      "Episode 130\tAverage Score: 0.67\n",
      "Episode 140\tAverage Score: 0.62\n",
      "Episode 150\tAverage Score: 0.57\n",
      "Episode 160\tAverage Score: 0.53\n",
      "Episode 170\tAverage Score: 0.55\n",
      "Episode 180\tAverage Score: 0.55\n",
      "Episode 190\tAverage Score: 0.54\n",
      "Episode 200\tAverage Score: 0.54\n",
      "Episode 210\tAverage Score: 0.54\n",
      "Episode 220\tAverage Score: 0.53\n",
      "Episode 230\tAverage Score: 0.53\n",
      "Episode 240\tAverage Score: 0.52\n",
      "Episode 250\tAverage Score: 0.51\n",
      "Episode 260\tAverage Score: 0.53\n",
      "Episode 270\tAverage Score: 0.54\n",
      "Episode 280\tAverage Score: 0.53\n",
      "Episode 290\tAverage Score: 0.51\n",
      "Episode 300\tAverage Score: 0.51\n",
      "Episode 310\tAverage Score: 0.49\n",
      "Episode 320\tAverage Score: 0.48\n",
      "Episode 330\tAverage Score: 0.48\n",
      "Episode 340\tAverage Score: 0.48\n",
      "Episode 350\tAverage Score: 0.48\n",
      "Episode 360\tAverage Score: 0.48\n",
      "Episode 370\tAverage Score: 0.49\n",
      "Episode 380\tAverage Score: 0.51\n",
      "Episode 390\tAverage Score: 0.52\n",
      "Episode 400\tAverage Score: 0.52\n",
      "Episode 410\tAverage Score: 0.54\n",
      "Episode 420\tAverage Score: 0.55\n",
      "Episode 430\tAverage Score: 0.54\n",
      "Episode 440\tAverage Score: 0.54\n",
      "Episode 450\tAverage Score: 0.55\n",
      "Episode 460\tAverage Score: 0.53\n",
      "Episode 470\tAverage Score: 0.53\n",
      "Episode 480\tAverage Score: 0.53\n",
      "Episode 490\tAverage Score: 0.53\n",
      "Episode 500\tAverage Score: 0.54\n",
      "Episode 510\tAverage Score: 0.54\n",
      "Episode 520\tAverage Score: 0.55\n",
      "Episode 530\tAverage Score: 0.54\n",
      "Episode 540\tAverage Score: 0.54\n",
      "Episode 550\tAverage Score: 0.54\n",
      "Episode 560\tAverage Score: 0.56\n",
      "Episode 570\tAverage Score: 0.54\n",
      "Episode 580\tAverage Score: 0.55\n",
      "Episode 590\tAverage Score: 0.57\n",
      "Episode 600\tAverage Score: 0.58\n",
      "Episode 610\tAverage Score: 0.59\n",
      "Episode 620\tAverage Score: 0.57\n",
      "Episode 630\tAverage Score: 0.58\n",
      "Episode 640\tAverage Score: 0.60\n",
      "Episode 650\tAverage Score: 0.62\n",
      "Episode 660\tAverage Score: 0.62\n",
      "Episode 670\tAverage Score: 0.61\n",
      "Episode 680\tAverage Score: 0.57\n",
      "Episode 690\tAverage Score: 0.54\n",
      "Episode 700\tAverage Score: 0.51\n",
      "Episode 710\tAverage Score: 0.52\n",
      "Episode 720\tAverage Score: 0.51\n",
      "Episode 730\tAverage Score: 0.52\n",
      "Episode 740\tAverage Score: 0.52\n",
      "Episode 750\tAverage Score: 0.48\n",
      "Episode 760\tAverage Score: 0.47\n",
      "Episode 770\tAverage Score: 0.48\n",
      "Episode 780\tAverage Score: 0.49\n",
      "Episode 790\tAverage Score: 0.51\n",
      "Episode 800\tAverage Score: 0.51\n",
      "Episode 810\tAverage Score: 0.50\n",
      "Episode 820\tAverage Score: 0.53\n",
      "Episode 830\tAverage Score: 0.51\n",
      "Episode 840\tAverage Score: 0.50\n",
      "Episode 850\tAverage Score: 0.50\n",
      "Episode 860\tAverage Score: 0.49\n",
      "Episode 870\tAverage Score: 0.49\n",
      "Episode 880\tAverage Score: 0.50\n",
      "Episode 890\tAverage Score: 0.52\n",
      "Episode 900\tAverage Score: 0.55\n",
      "Episode 910\tAverage Score: 0.56\n",
      "Episode 920\tAverage Score: 0.54\n",
      "Episode 930\tAverage Score: 0.56\n",
      "Episode 940\tAverage Score: 0.57\n",
      "Episode 950\tAverage Score: 0.59\n",
      "Episode 960\tAverage Score: 0.61\n",
      "Episode 970\tAverage Score: 0.61\n",
      "Episode 980\tAverage Score: 0.60\n",
      "Episode 990\tAverage Score: 0.59\n",
      "Episode 1000\tAverage Score: 0.56\n",
      "Episode 1010\tAverage Score: 0.54\n",
      "Episode 1020\tAverage Score: 0.55\n",
      "Episode 1030\tAverage Score: 0.53\n",
      "Episode 1040\tAverage Score: 0.53\n",
      "Episode 1050\tAverage Score: 0.52\n",
      "Episode 1060\tAverage Score: 0.52\n",
      "Episode 1070\tAverage Score: 0.52\n",
      "Episode 1080\tAverage Score: 0.53\n",
      "Episode 1090\tAverage Score: 0.56\n",
      "Episode 1100\tAverage Score: 0.55\n",
      "Episode 1110\tAverage Score: 0.57\n",
      "Episode 1120\tAverage Score: 0.57\n",
      "Episode 1130\tAverage Score: 0.59\n",
      "Episode 1140\tAverage Score: 0.56\n"
     ]
    },
    {
     "ename": "KeyboardInterrupt",
     "evalue": "",
     "output_type": "error",
     "traceback": [
      "\u001b[0;31m---------------------------------------------------------------------------\u001b[0m",
      "\u001b[0;31mKeyboardInterrupt\u001b[0m                         Traceback (most recent call last)",
      "\u001b[0;32m<ipython-input-6-23777d7dfe79>\u001b[0m in \u001b[0;36m<module>\u001b[0;34m\u001b[0m\n\u001b[1;32m     34\u001b[0m     \u001b[0;32mreturn\u001b[0m \u001b[0magent\u001b[0m\u001b[0;34m,\u001b[0m \u001b[0mscores\u001b[0m\u001b[0;34m\u001b[0m\u001b[0;34m\u001b[0m\u001b[0m\n\u001b[1;32m     35\u001b[0m \u001b[0;34m\u001b[0m\u001b[0m\n\u001b[0;32m---> 36\u001b[0;31m \u001b[0magent\u001b[0m\u001b[0;34m,\u001b[0m \u001b[0mscores\u001b[0m \u001b[0;34m=\u001b[0m \u001b[0mddpg\u001b[0m\u001b[0;34m(\u001b[0m\u001b[0;34m)\u001b[0m\u001b[0;34m\u001b[0m\u001b[0;34m\u001b[0m\u001b[0m\n\u001b[0m\u001b[1;32m     37\u001b[0m \u001b[0mfig\u001b[0m \u001b[0;34m=\u001b[0m \u001b[0mplt\u001b[0m\u001b[0;34m.\u001b[0m\u001b[0mfigure\u001b[0m\u001b[0;34m(\u001b[0m\u001b[0;34m)\u001b[0m\u001b[0;34m\u001b[0m\u001b[0;34m\u001b[0m\u001b[0m\n\u001b[1;32m     38\u001b[0m \u001b[0max\u001b[0m \u001b[0;34m=\u001b[0m \u001b[0mfig\u001b[0m\u001b[0;34m.\u001b[0m\u001b[0madd_subplot\u001b[0m\u001b[0;34m(\u001b[0m\u001b[0;36m111\u001b[0m\u001b[0;34m)\u001b[0m\u001b[0;34m\u001b[0m\u001b[0;34m\u001b[0m\u001b[0m\n",
      "\u001b[0;32m<ipython-input-6-23777d7dfe79>\u001b[0m in \u001b[0;36mddpg\u001b[0;34m(n_episodes, max_t, eps_start, eps_end, eps_decay)\u001b[0m\n\u001b[1;32m     13\u001b[0m         \u001b[0;32mfor\u001b[0m \u001b[0mt\u001b[0m \u001b[0;32min\u001b[0m \u001b[0mrange\u001b[0m\u001b[0;34m(\u001b[0m\u001b[0mmax_t\u001b[0m\u001b[0;34m)\u001b[0m\u001b[0;34m:\u001b[0m\u001b[0;34m\u001b[0m\u001b[0;34m\u001b[0m\u001b[0m\n\u001b[1;32m     14\u001b[0m             \u001b[0maction\u001b[0m \u001b[0;34m=\u001b[0m \u001b[0magent\u001b[0m\u001b[0;34m.\u001b[0m\u001b[0mact\u001b[0m\u001b[0;34m(\u001b[0m\u001b[0mstate\u001b[0m\u001b[0;34m,\u001b[0m \u001b[0meps\u001b[0m\u001b[0;34m)\u001b[0m\u001b[0;34m\u001b[0m\u001b[0;34m\u001b[0m\u001b[0m\n\u001b[0;32m---> 15\u001b[0;31m             \u001b[0menv_info\u001b[0m \u001b[0;34m=\u001b[0m \u001b[0menv\u001b[0m\u001b[0;34m.\u001b[0m\u001b[0mstep\u001b[0m\u001b[0;34m(\u001b[0m\u001b[0maction\u001b[0m\u001b[0;34m.\u001b[0m\u001b[0mnumpy\u001b[0m\u001b[0;34m(\u001b[0m\u001b[0;34m)\u001b[0m\u001b[0;34m)\u001b[0m\u001b[0;34m[\u001b[0m\u001b[0mbrain_name\u001b[0m\u001b[0;34m]\u001b[0m        \u001b[0;31m# send the action to the environment\u001b[0m\u001b[0;34m\u001b[0m\u001b[0;34m\u001b[0m\u001b[0m\n\u001b[0m\u001b[1;32m     16\u001b[0m             \u001b[0mnext_state\u001b[0m \u001b[0;34m=\u001b[0m \u001b[0menv_info\u001b[0m\u001b[0;34m.\u001b[0m\u001b[0mvector_observations\u001b[0m\u001b[0;34m[\u001b[0m\u001b[0;36m0\u001b[0m\u001b[0;34m]\u001b[0m   \u001b[0;31m# get the next state\u001b[0m\u001b[0;34m\u001b[0m\u001b[0;34m\u001b[0m\u001b[0m\n\u001b[1;32m     17\u001b[0m             \u001b[0mreward\u001b[0m \u001b[0;34m=\u001b[0m \u001b[0menv_info\u001b[0m\u001b[0;34m.\u001b[0m\u001b[0mrewards\u001b[0m\u001b[0;34m[\u001b[0m\u001b[0;36m0\u001b[0m\u001b[0;34m]\u001b[0m                   \u001b[0;31m# get the reward\u001b[0m\u001b[0;34m\u001b[0m\u001b[0;34m\u001b[0m\u001b[0m\n",
      "\u001b[0;32m~/anaconda3/envs/drlnd/lib/python3.6/site-packages/unityagents/environment.py\u001b[0m in \u001b[0;36mstep\u001b[0;34m(self, vector_action, memory, text_action)\u001b[0m\n\u001b[1;32m    367\u001b[0m \u001b[0;34m\u001b[0m\u001b[0m\n\u001b[1;32m    368\u001b[0m             outputs = self.communicator.exchange(\n\u001b[0;32m--> 369\u001b[0;31m                 \u001b[0mself\u001b[0m\u001b[0;34m.\u001b[0m\u001b[0m_generate_step_input\u001b[0m\u001b[0;34m(\u001b[0m\u001b[0mvector_action\u001b[0m\u001b[0;34m,\u001b[0m \u001b[0mmemory\u001b[0m\u001b[0;34m,\u001b[0m \u001b[0mtext_action\u001b[0m\u001b[0;34m)\u001b[0m\u001b[0;34m\u001b[0m\u001b[0;34m\u001b[0m\u001b[0m\n\u001b[0m\u001b[1;32m    370\u001b[0m             )\n\u001b[1;32m    371\u001b[0m             \u001b[0;32mif\u001b[0m \u001b[0moutputs\u001b[0m \u001b[0;32mis\u001b[0m \u001b[0;32mNone\u001b[0m\u001b[0;34m:\u001b[0m\u001b[0;34m\u001b[0m\u001b[0;34m\u001b[0m\u001b[0m\n",
      "\u001b[0;32m~/anaconda3/envs/drlnd/lib/python3.6/site-packages/unityagents/rpc_communicator.py\u001b[0m in \u001b[0;36mexchange\u001b[0;34m(self, inputs)\u001b[0m\n\u001b[1;32m     76\u001b[0m         \u001b[0mmessage\u001b[0m\u001b[0;34m.\u001b[0m\u001b[0munity_input\u001b[0m\u001b[0;34m.\u001b[0m\u001b[0mCopyFrom\u001b[0m\u001b[0;34m(\u001b[0m\u001b[0minputs\u001b[0m\u001b[0;34m)\u001b[0m\u001b[0;34m\u001b[0m\u001b[0;34m\u001b[0m\u001b[0m\n\u001b[1;32m     77\u001b[0m         \u001b[0mself\u001b[0m\u001b[0;34m.\u001b[0m\u001b[0munity_to_external\u001b[0m\u001b[0;34m.\u001b[0m\u001b[0mparent_conn\u001b[0m\u001b[0;34m.\u001b[0m\u001b[0msend\u001b[0m\u001b[0;34m(\u001b[0m\u001b[0mmessage\u001b[0m\u001b[0;34m)\u001b[0m\u001b[0;34m\u001b[0m\u001b[0;34m\u001b[0m\u001b[0m\n\u001b[0;32m---> 78\u001b[0;31m         \u001b[0moutput\u001b[0m \u001b[0;34m=\u001b[0m \u001b[0mself\u001b[0m\u001b[0;34m.\u001b[0m\u001b[0munity_to_external\u001b[0m\u001b[0;34m.\u001b[0m\u001b[0mparent_conn\u001b[0m\u001b[0;34m.\u001b[0m\u001b[0mrecv\u001b[0m\u001b[0;34m(\u001b[0m\u001b[0;34m)\u001b[0m\u001b[0;34m\u001b[0m\u001b[0;34m\u001b[0m\u001b[0m\n\u001b[0m\u001b[1;32m     79\u001b[0m         \u001b[0;32mif\u001b[0m \u001b[0moutput\u001b[0m\u001b[0;34m.\u001b[0m\u001b[0mheader\u001b[0m\u001b[0;34m.\u001b[0m\u001b[0mstatus\u001b[0m \u001b[0;34m!=\u001b[0m \u001b[0;36m200\u001b[0m\u001b[0;34m:\u001b[0m\u001b[0;34m\u001b[0m\u001b[0;34m\u001b[0m\u001b[0m\n\u001b[1;32m     80\u001b[0m             \u001b[0;32mreturn\u001b[0m \u001b[0;32mNone\u001b[0m\u001b[0;34m\u001b[0m\u001b[0;34m\u001b[0m\u001b[0m\n",
      "\u001b[0;32m~/anaconda3/envs/drlnd/lib/python3.6/multiprocessing/connection.py\u001b[0m in \u001b[0;36mrecv\u001b[0;34m(self)\u001b[0m\n\u001b[1;32m    248\u001b[0m         \u001b[0mself\u001b[0m\u001b[0;34m.\u001b[0m\u001b[0m_check_closed\u001b[0m\u001b[0;34m(\u001b[0m\u001b[0;34m)\u001b[0m\u001b[0;34m\u001b[0m\u001b[0;34m\u001b[0m\u001b[0m\n\u001b[1;32m    249\u001b[0m         \u001b[0mself\u001b[0m\u001b[0;34m.\u001b[0m\u001b[0m_check_readable\u001b[0m\u001b[0;34m(\u001b[0m\u001b[0;34m)\u001b[0m\u001b[0;34m\u001b[0m\u001b[0;34m\u001b[0m\u001b[0m\n\u001b[0;32m--> 250\u001b[0;31m         \u001b[0mbuf\u001b[0m \u001b[0;34m=\u001b[0m \u001b[0mself\u001b[0m\u001b[0;34m.\u001b[0m\u001b[0m_recv_bytes\u001b[0m\u001b[0;34m(\u001b[0m\u001b[0;34m)\u001b[0m\u001b[0;34m\u001b[0m\u001b[0;34m\u001b[0m\u001b[0m\n\u001b[0m\u001b[1;32m    251\u001b[0m         \u001b[0;32mreturn\u001b[0m \u001b[0m_ForkingPickler\u001b[0m\u001b[0;34m.\u001b[0m\u001b[0mloads\u001b[0m\u001b[0;34m(\u001b[0m\u001b[0mbuf\u001b[0m\u001b[0;34m.\u001b[0m\u001b[0mgetbuffer\u001b[0m\u001b[0;34m(\u001b[0m\u001b[0;34m)\u001b[0m\u001b[0;34m)\u001b[0m\u001b[0;34m\u001b[0m\u001b[0;34m\u001b[0m\u001b[0m\n\u001b[1;32m    252\u001b[0m \u001b[0;34m\u001b[0m\u001b[0m\n",
      "\u001b[0;32m~/anaconda3/envs/drlnd/lib/python3.6/multiprocessing/connection.py\u001b[0m in \u001b[0;36m_recv_bytes\u001b[0;34m(self, maxsize)\u001b[0m\n\u001b[1;32m    405\u001b[0m \u001b[0;34m\u001b[0m\u001b[0m\n\u001b[1;32m    406\u001b[0m     \u001b[0;32mdef\u001b[0m \u001b[0m_recv_bytes\u001b[0m\u001b[0;34m(\u001b[0m\u001b[0mself\u001b[0m\u001b[0;34m,\u001b[0m \u001b[0mmaxsize\u001b[0m\u001b[0;34m=\u001b[0m\u001b[0;32mNone\u001b[0m\u001b[0;34m)\u001b[0m\u001b[0;34m:\u001b[0m\u001b[0;34m\u001b[0m\u001b[0;34m\u001b[0m\u001b[0m\n\u001b[0;32m--> 407\u001b[0;31m         \u001b[0mbuf\u001b[0m \u001b[0;34m=\u001b[0m \u001b[0mself\u001b[0m\u001b[0;34m.\u001b[0m\u001b[0m_recv\u001b[0m\u001b[0;34m(\u001b[0m\u001b[0;36m4\u001b[0m\u001b[0;34m)\u001b[0m\u001b[0;34m\u001b[0m\u001b[0;34m\u001b[0m\u001b[0m\n\u001b[0m\u001b[1;32m    408\u001b[0m         \u001b[0msize\u001b[0m\u001b[0;34m,\u001b[0m \u001b[0;34m=\u001b[0m \u001b[0mstruct\u001b[0m\u001b[0;34m.\u001b[0m\u001b[0munpack\u001b[0m\u001b[0;34m(\u001b[0m\u001b[0;34m\"!i\"\u001b[0m\u001b[0;34m,\u001b[0m \u001b[0mbuf\u001b[0m\u001b[0;34m.\u001b[0m\u001b[0mgetvalue\u001b[0m\u001b[0;34m(\u001b[0m\u001b[0;34m)\u001b[0m\u001b[0;34m)\u001b[0m\u001b[0;34m\u001b[0m\u001b[0;34m\u001b[0m\u001b[0m\n\u001b[1;32m    409\u001b[0m         \u001b[0;32mif\u001b[0m \u001b[0mmaxsize\u001b[0m \u001b[0;32mis\u001b[0m \u001b[0;32mnot\u001b[0m \u001b[0;32mNone\u001b[0m \u001b[0;32mand\u001b[0m \u001b[0msize\u001b[0m \u001b[0;34m>\u001b[0m \u001b[0mmaxsize\u001b[0m\u001b[0;34m:\u001b[0m\u001b[0;34m\u001b[0m\u001b[0;34m\u001b[0m\u001b[0m\n",
      "\u001b[0;32m~/anaconda3/envs/drlnd/lib/python3.6/multiprocessing/connection.py\u001b[0m in \u001b[0;36m_recv\u001b[0;34m(self, size, read)\u001b[0m\n\u001b[1;32m    377\u001b[0m         \u001b[0mremaining\u001b[0m \u001b[0;34m=\u001b[0m \u001b[0msize\u001b[0m\u001b[0;34m\u001b[0m\u001b[0;34m\u001b[0m\u001b[0m\n\u001b[1;32m    378\u001b[0m         \u001b[0;32mwhile\u001b[0m \u001b[0mremaining\u001b[0m \u001b[0;34m>\u001b[0m \u001b[0;36m0\u001b[0m\u001b[0;34m:\u001b[0m\u001b[0;34m\u001b[0m\u001b[0;34m\u001b[0m\u001b[0m\n\u001b[0;32m--> 379\u001b[0;31m             \u001b[0mchunk\u001b[0m \u001b[0;34m=\u001b[0m \u001b[0mread\u001b[0m\u001b[0;34m(\u001b[0m\u001b[0mhandle\u001b[0m\u001b[0;34m,\u001b[0m \u001b[0mremaining\u001b[0m\u001b[0;34m)\u001b[0m\u001b[0;34m\u001b[0m\u001b[0;34m\u001b[0m\u001b[0m\n\u001b[0m\u001b[1;32m    380\u001b[0m             \u001b[0mn\u001b[0m \u001b[0;34m=\u001b[0m \u001b[0mlen\u001b[0m\u001b[0;34m(\u001b[0m\u001b[0mchunk\u001b[0m\u001b[0;34m)\u001b[0m\u001b[0;34m\u001b[0m\u001b[0;34m\u001b[0m\u001b[0m\n\u001b[1;32m    381\u001b[0m             \u001b[0;32mif\u001b[0m \u001b[0mn\u001b[0m \u001b[0;34m==\u001b[0m \u001b[0;36m0\u001b[0m\u001b[0;34m:\u001b[0m\u001b[0;34m\u001b[0m\u001b[0;34m\u001b[0m\u001b[0m\n",
      "\u001b[0;31mKeyboardInterrupt\u001b[0m: "
     ]
    }
   ],
   "source": [
    "def ddpg(n_episodes=2000, max_t=1000, eps_start=1.0, eps_end=0.0001, eps_decay=0.995):\n",
    "    env_info = env.reset(train_mode=True)[brain_name]\n",
    "    agent = Agent(0)\n",
    "    scores = []                        # list containing scores from each episode\n",
    "    scores_window = deque(maxlen=100)  # last 100 scores\n",
    "    eps = eps_start                    # initialize epsilon\n",
    "    \n",
    "    for i_episode in range(1, n_episodes+1):\n",
    "        env.reset()\n",
    "        state = env_info.vector_observations[0]\n",
    "        score = 0\n",
    "        \n",
    "        for t in range(max_t):\n",
    "            action = agent.act(state, eps)\n",
    "            env_info = env.step(action.numpy())[brain_name]        # send the action to the environment\n",
    "            next_state = env_info.vector_observations[0]   # get the next state\n",
    "            reward = env_info.rewards[0]                   # get the reward\n",
    "            done = env_info.local_done[0] \n",
    "            agent.step(state, action, reward, next_state, done)\n",
    "            state = next_state\n",
    "            score += reward\n",
    "            if done:\n",
    "                break\n",
    "        scores_window.append(score)\n",
    "        scores.append(score)\n",
    "        eps = max(eps_end, eps_decay*eps)\n",
    "        \n",
    "        if i_episode % 10 == 0:\n",
    "            print('\\rEpisode {}\\tAverage Score: {:.2f}'.format(i_episode, np.mean(scores_window)))\n",
    "        if np.mean(scores_window)>=16.0:\n",
    "            print('\\nEnvironment solved in {:d} episodes!\\tAverage Score: {:.2f}'.format(i_episode, np.mean(scores_window)))\n",
    "            torch.save(agent.qnetwork_local.state_dict(), 'checkpoint.pth')\n",
    "            break  \n",
    "    return agent, scores\n",
    "\n",
    "agent, scores = ddpg()\n",
    "fig = plt.figure()\n",
    "ax = fig.add_subplot(111)\n",
    "plt.plot(np.arange(len(scores)), scores)\n",
    "plt.ylabel('Score')\n",
    "plt.xlabel('Episode #')\n",
    "plt.show()"
   ]
  },
  {
   "cell_type": "code",
   "execution_count": 156,
   "metadata": {},
   "outputs": [
    {
     "data": {
      "text/plain": [
       "tensor([[ 1,  2,  3,  4],\n",
       "        [ 5,  6,  7,  8]])"
      ]
     },
     "execution_count": 156,
     "metadata": {},
     "output_type": "execute_result"
    }
   ],
   "source": [
    "x =  torch.tensor([[1,2,3,4],[5,6,7,8]])\n",
    "x"
   ]
  },
  {
   "cell_type": "code",
   "execution_count": 160,
   "metadata": {},
   "outputs": [
    {
     "data": {
      "text/plain": [
       "tensor([[ 2],\n",
       "        [ 3]])"
      ]
     },
     "execution_count": 160,
     "metadata": {},
     "output_type": "execute_result"
    }
   ],
   "source": [
    "y = torch.tensor([2,3]).unsqueeze(1)\n",
    "y"
   ]
  },
  {
   "cell_type": "code",
   "execution_count": 26,
   "metadata": {},
   "outputs": [
    {
     "data": {
      "text/plain": [
       "tensor([ 0.4726,  0.4972,  0.7817,  0.5683,  0.5069,  0.6061,  0.3377,\n",
       "         0.6289,  0.2883,  0.6252,  0.8945,  0.1141,  0.7922,  0.5070,\n",
       "         0.7403,  0.2885,  0.6022,  0.9980,  0.0201,  0.9114,  0.6329,\n",
       "         0.8417,  0.0119,  0.7304,  0.1914,  0.6663,  0.5957,  0.0885,\n",
       "         0.8278,  0.1150,  0.1106,  0.8401,  0.1309,  0.5620,  0.2234,\n",
       "         0.6239,  0.6578,  0.5545,  0.1003,  0.9188,  0.6837,  0.9222,\n",
       "         0.2111,  0.7583,  0.0709,  0.4482,  0.2202,  0.5906,  0.9696,\n",
       "         0.6697,  0.3073,  0.6539,  0.1845,  0.4986,  0.2524,  0.5659,\n",
       "         0.8145,  0.1429,  0.2072,  0.3499,  0.1128,  0.7645,  0.3116,\n",
       "         0.7276,  0.7495,  0.7776,  0.5922,  0.8893,  0.8486,  0.2875,\n",
       "         0.2591,  0.2948,  0.1777,  0.8752,  0.0434,  0.3813,  0.5381,\n",
       "         0.2702,  0.0016,  0.4812,  0.6294,  0.6000,  0.5705,  0.2180,\n",
       "         0.5156,  0.4837,  0.5145,  0.7885,  0.4528,  0.0864,  0.6080,\n",
       "         0.2496,  0.4371,  0.2815,  0.2573,  0.0903,  0.2012,  0.6269,\n",
       "         0.9394,  0.4668])"
      ]
     },
     "execution_count": 26,
     "metadata": {},
     "output_type": "execute_result"
    }
   ],
   "source": [
    "x = torch.rand(100)\n",
    "x"
   ]
  },
  {
   "cell_type": "code",
   "execution_count": 27,
   "metadata": {},
   "outputs": [
    {
     "data": {
      "text/plain": [
       "tensor([ 0.0945,  0.0994,  0.1563,  0.1137,  0.1014,  0.1212,  0.0675,\n",
       "         0.1258,  0.0577,  0.1250,  0.1789,  0.0228,  0.1584,  0.1014,\n",
       "         0.1481,  0.0577,  0.1204,  0.1996,  0.0040,  0.1823,  0.1266,\n",
       "         0.1683,  0.0024,  0.1461,  0.0383,  0.1333,  0.1191,  0.0177,\n",
       "         0.1656,  0.0230,  0.0221,  0.1680,  0.0262,  0.1124,  0.0447,\n",
       "         0.1248,  0.1316,  0.1109,  0.0201,  0.1838,  0.1367,  0.1844,\n",
       "         0.0422,  0.1517,  0.0142,  0.0896,  0.0440,  0.1181,  0.1939,\n",
       "         0.1339,  0.0615,  0.1308,  0.0369,  0.0997,  0.0505,  0.1132,\n",
       "         0.1629,  0.0286,  0.0414,  0.0700,  0.0226,  0.1529,  0.0623,\n",
       "         0.1455,  0.1499,  0.1555,  0.1184,  0.1779,  0.1697,  0.0575,\n",
       "         0.0518,  0.0590,  0.0355,  0.1750,  0.0087,  0.0763,  0.1076,\n",
       "         0.0540,  0.0003,  0.0962,  0.1259,  0.1200,  0.1141,  0.0436,\n",
       "         0.1031,  0.0967,  0.1029,  0.1577,  0.0906,  0.0173,  0.1216,\n",
       "         0.0499,  0.0874,  0.0563,  0.0515,  0.0181,  0.0402,  0.1254,\n",
       "         0.1879,  0.0934])"
      ]
     },
     "execution_count": 27,
     "metadata": {},
     "output_type": "execute_result"
    }
   ],
   "source": [
    "x = x * 0.2\n",
    "x"
   ]
  },
  {
   "cell_type": "code",
   "execution_count": 28,
   "metadata": {},
   "outputs": [
    {
     "data": {
      "text/plain": [
       "tensor(1.00000e-02 *\n",
       "       [-0.5479, -0.0568,  5.6334,  1.3660,  0.1379,  2.1212, -3.2469,\n",
       "         2.5782, -4.2341,  2.5050,  7.8899, -7.7188,  5.8431,  0.1405,\n",
       "         4.8068, -4.2299,  2.0439,  9.9608, -9.5987,  8.2277,  2.6579,\n",
       "         6.8339, -9.7630,  4.6080, -6.1711,  3.3269,  1.9139, -8.2291,\n",
       "         6.5568, -7.6991, -7.7873,  6.8025, -7.3814,  1.2392, -5.5316,\n",
       "         2.4782,  3.1558,  1.0905, -7.9942,  8.3770,  3.6734,  8.4441,\n",
       "        -5.7779,  5.1654, -8.5829, -1.0363, -5.5954,  1.8122,  9.3917,\n",
       "         3.3949, -3.8533,  3.0774, -6.3093, -0.0272, -4.9524,  1.3187,\n",
       "         6.2892, -7.1416, -5.8561, -3.0011, -7.7436,  5.2901, -3.7671,\n",
       "         4.5525,  4.9904,  5.5513,  1.8439,  7.7860,  6.9716, -4.2499,\n",
       "        -4.8183, -4.1040, -6.4464,  7.5043, -9.1323, -2.3733,  0.7626,\n",
       "        -4.5966, -9.9680, -0.3757,  2.5887,  2.0006,  1.4106, -5.6395,\n",
       "         0.3114, -0.3264,  0.2910,  5.7706, -0.9431, -8.2723,  2.1599,\n",
       "        -5.0084, -1.2589, -4.3697, -4.8545, -8.1931, -5.9764,  2.5387,\n",
       "         8.7870, -0.6642])"
      ]
     },
     "execution_count": 28,
     "metadata": {},
     "output_type": "execute_result"
    }
   ],
   "source": [
    "x = x - 0.1\n",
    "x"
   ]
  },
  {
   "cell_type": "code",
   "execution_count": null,
   "metadata": {},
   "outputs": [],
   "source": []
  }
 ],
 "metadata": {
  "kernelspec": {
   "display_name": "drlnd",
   "language": "python",
   "name": "drlnd"
  },
  "language_info": {
   "codemirror_mode": {
    "name": "ipython",
    "version": 3
   },
   "file_extension": ".py",
   "mimetype": "text/x-python",
   "name": "python",
   "nbconvert_exporter": "python",
   "pygments_lexer": "ipython3",
   "version": "3.6.9"
  }
 },
 "nbformat": 4,
 "nbformat_minor": 2
}
